{
 "cells": [
  {
   "cell_type": "markdown",
   "id": "d7184136-0bd1-4e00-92d3-50329538b08e",
   "metadata": {},
   "source": [
    "# About Dataset\n",
    "### This dataset contains 100,000+ user reviews from Google Play Store for India's most popular stock trading and investment apps, including Zerodha (Kite), Groww, Upstox, Angel One, 5paisa, Paytm Money, ICICI Direct, FYERS, and others. The reviews are scraped using the google-play-scraper library and include feedback on app performance, features, reliability, and user experience.\n",
    "### Each review includes:\n",
    "### - Review ID\n",
    "### - content\n",
    "### - Score (1 to 5 stars)\n",
    "### - App\n",
    "### This dataset is valuable for:\n",
    "### 1. Sentiment analysis\n",
    "### 2. User experience research\n",
    "### 3. Feature request mining\n",
    "### 4. Comparative studies of brokerage apps\n",
    "### 5. Fintech product improvement"
   ]
  },
  {
   "cell_type": "code",
   "execution_count": 23,
   "id": "0a21ca48-433e-49c1-8775-ad137376a2fd",
   "metadata": {},
   "outputs": [],
   "source": [
    "import pandas as pd\n",
    "import numpy as np\n",
    "import seaborn as sns\n",
    "import matplotlib.pyplot as plt\n",
    "import warnings\n",
    "warnings.filterwarnings('ignore')"
   ]
  },
  {
   "cell_type": "code",
   "execution_count": 2,
   "id": "2aea94ee-0a29-4cfa-8b8b-86598cc018f4",
   "metadata": {},
   "outputs": [],
   "source": [
    "data = pd.read_csv(\"Stock_Trading_App_Reviews.csv\")"
   ]
  },
  {
   "cell_type": "code",
   "execution_count": 3,
   "id": "734342aa-717c-4d02-882f-dd1977eb98a1",
   "metadata": {},
   "outputs": [
    {
     "data": {
      "text/html": [
       "<div>\n",
       "<style scoped>\n",
       "    .dataframe tbody tr th:only-of-type {\n",
       "        vertical-align: middle;\n",
       "    }\n",
       "\n",
       "    .dataframe tbody tr th {\n",
       "        vertical-align: top;\n",
       "    }\n",
       "\n",
       "    .dataframe thead th {\n",
       "        text-align: right;\n",
       "    }\n",
       "</style>\n",
       "<table border=\"1\" class=\"dataframe\">\n",
       "  <thead>\n",
       "    <tr style=\"text-align: right;\">\n",
       "      <th></th>\n",
       "      <th>reviewId</th>\n",
       "      <th>content</th>\n",
       "      <th>score</th>\n",
       "      <th>app</th>\n",
       "    </tr>\n",
       "  </thead>\n",
       "  <tbody>\n",
       "    <tr>\n",
       "      <th>0</th>\n",
       "      <td>be071c83-6d3c-4db3-94c0-2714c04fc47d</td>\n",
       "      <td>good app</td>\n",
       "      <td>4</td>\n",
       "      <td>Zerodha (Kite)</td>\n",
       "    </tr>\n",
       "    <tr>\n",
       "      <th>1</th>\n",
       "      <td>aedd0c3c-69ef-4088-813f-df473e00ef0f</td>\n",
       "      <td>good</td>\n",
       "      <td>5</td>\n",
       "      <td>Zerodha (Kite)</td>\n",
       "    </tr>\n",
       "    <tr>\n",
       "      <th>2</th>\n",
       "      <td>994812ae-8110-47e4-9e8f-6dba21dc37f8</td>\n",
       "      <td>nice app better than angelone in terms of brok...</td>\n",
       "      <td>5</td>\n",
       "      <td>Zerodha (Kite)</td>\n",
       "    </tr>\n",
       "    <tr>\n",
       "      <th>3</th>\n",
       "      <td>e15872b4-b646-4878-b35e-d26527379bec</td>\n",
       "      <td>good</td>\n",
       "      <td>5</td>\n",
       "      <td>Zerodha (Kite)</td>\n",
       "    </tr>\n",
       "    <tr>\n",
       "      <th>4</th>\n",
       "      <td>20237158-d654-4796-84c4-e809c7034de7</td>\n",
       "      <td>happy with customer service</td>\n",
       "      <td>5</td>\n",
       "      <td>Zerodha (Kite)</td>\n",
       "    </tr>\n",
       "  </tbody>\n",
       "</table>\n",
       "</div>"
      ],
      "text/plain": [
       "                               reviewId  \\\n",
       "0  be071c83-6d3c-4db3-94c0-2714c04fc47d   \n",
       "1  aedd0c3c-69ef-4088-813f-df473e00ef0f   \n",
       "2  994812ae-8110-47e4-9e8f-6dba21dc37f8   \n",
       "3  e15872b4-b646-4878-b35e-d26527379bec   \n",
       "4  20237158-d654-4796-84c4-e809c7034de7   \n",
       "\n",
       "                                             content  score             app  \n",
       "0                                           good app      4  Zerodha (Kite)  \n",
       "1                                               good      5  Zerodha (Kite)  \n",
       "2  nice app better than angelone in terms of brok...      5  Zerodha (Kite)  \n",
       "3                                               good      5  Zerodha (Kite)  \n",
       "4                        happy with customer service      5  Zerodha (Kite)  "
      ]
     },
     "execution_count": 3,
     "metadata": {},
     "output_type": "execute_result"
    }
   ],
   "source": [
    "data.head()"
   ]
  },
  {
   "cell_type": "code",
   "execution_count": 4,
   "id": "60d4688f-4d69-4383-aefc-6ed975c16369",
   "metadata": {},
   "outputs": [
    {
     "data": {
      "text/html": [
       "<div>\n",
       "<style scoped>\n",
       "    .dataframe tbody tr th:only-of-type {\n",
       "        vertical-align: middle;\n",
       "    }\n",
       "\n",
       "    .dataframe tbody tr th {\n",
       "        vertical-align: top;\n",
       "    }\n",
       "\n",
       "    .dataframe thead th {\n",
       "        text-align: right;\n",
       "    }\n",
       "</style>\n",
       "<table border=\"1\" class=\"dataframe\">\n",
       "  <thead>\n",
       "    <tr style=\"text-align: right;\">\n",
       "      <th></th>\n",
       "      <th>reviewId</th>\n",
       "      <th>content</th>\n",
       "      <th>score</th>\n",
       "      <th>app</th>\n",
       "    </tr>\n",
       "  </thead>\n",
       "  <tbody>\n",
       "    <tr>\n",
       "      <th>121126</th>\n",
       "      <td>5db1fbb8-da38-49f2-94a1-abd015c7f9fb</td>\n",
       "      <td>thank for making this simple and convenient ap...</td>\n",
       "      <td>5</td>\n",
       "      <td>IIFL Markets</td>\n",
       "    </tr>\n",
       "    <tr>\n",
       "      <th>121127</th>\n",
       "      <td>def344b4-6647-4ed6-8570-43ce32445eca</td>\n",
       "      <td>excellent</td>\n",
       "      <td>5</td>\n",
       "      <td>IIFL Markets</td>\n",
       "    </tr>\n",
       "    <tr>\n",
       "      <th>121128</th>\n",
       "      <td>f3e14707-f30b-405c-bf24-5c31b02cce2d</td>\n",
       "      <td>Total discussing App hai ya Hanging mass</td>\n",
       "      <td>1</td>\n",
       "      <td>IIFL Markets</td>\n",
       "    </tr>\n",
       "    <tr>\n",
       "      <th>121129</th>\n",
       "      <td>a9cc7fc3-0e7a-49b1-86d2-d27278b15b44</td>\n",
       "      <td>Very bad. Plz dont use this .</td>\n",
       "      <td>1</td>\n",
       "      <td>IIFL Markets</td>\n",
       "    </tr>\n",
       "    <tr>\n",
       "      <th>121130</th>\n",
       "      <td>39e4ff73-dcb4-410f-85e7-2630534ded62</td>\n",
       "      <td>good</td>\n",
       "      <td>4</td>\n",
       "      <td>IIFL Markets</td>\n",
       "    </tr>\n",
       "  </tbody>\n",
       "</table>\n",
       "</div>"
      ],
      "text/plain": [
       "                                    reviewId  \\\n",
       "121126  5db1fbb8-da38-49f2-94a1-abd015c7f9fb   \n",
       "121127  def344b4-6647-4ed6-8570-43ce32445eca   \n",
       "121128  f3e14707-f30b-405c-bf24-5c31b02cce2d   \n",
       "121129  a9cc7fc3-0e7a-49b1-86d2-d27278b15b44   \n",
       "121130  39e4ff73-dcb4-410f-85e7-2630534ded62   \n",
       "\n",
       "                                                  content  score           app  \n",
       "121126  thank for making this simple and convenient ap...      5  IIFL Markets  \n",
       "121127                                          excellent      5  IIFL Markets  \n",
       "121128           Total discussing App hai ya Hanging mass      1  IIFL Markets  \n",
       "121129                      Very bad. Plz dont use this .      1  IIFL Markets  \n",
       "121130                                               good      4  IIFL Markets  "
      ]
     },
     "execution_count": 4,
     "metadata": {},
     "output_type": "execute_result"
    }
   ],
   "source": [
    "data.tail()"
   ]
  },
  {
   "cell_type": "code",
   "execution_count": 5,
   "id": "56258f2d-f439-487f-9594-a1d017afb3b1",
   "metadata": {},
   "outputs": [
    {
     "data": {
      "text/html": [
       "<div>\n",
       "<style scoped>\n",
       "    .dataframe tbody tr th:only-of-type {\n",
       "        vertical-align: middle;\n",
       "    }\n",
       "\n",
       "    .dataframe tbody tr th {\n",
       "        vertical-align: top;\n",
       "    }\n",
       "\n",
       "    .dataframe thead th {\n",
       "        text-align: right;\n",
       "    }\n",
       "</style>\n",
       "<table border=\"1\" class=\"dataframe\">\n",
       "  <thead>\n",
       "    <tr style=\"text-align: right;\">\n",
       "      <th></th>\n",
       "      <th>score</th>\n",
       "    </tr>\n",
       "  </thead>\n",
       "  <tbody>\n",
       "    <tr>\n",
       "      <th>count</th>\n",
       "      <td>121131.000000</td>\n",
       "    </tr>\n",
       "    <tr>\n",
       "      <th>mean</th>\n",
       "      <td>3.760004</td>\n",
       "    </tr>\n",
       "    <tr>\n",
       "      <th>std</th>\n",
       "      <td>1.681863</td>\n",
       "    </tr>\n",
       "    <tr>\n",
       "      <th>min</th>\n",
       "      <td>1.000000</td>\n",
       "    </tr>\n",
       "    <tr>\n",
       "      <th>25%</th>\n",
       "      <td>2.000000</td>\n",
       "    </tr>\n",
       "    <tr>\n",
       "      <th>50%</th>\n",
       "      <td>5.000000</td>\n",
       "    </tr>\n",
       "    <tr>\n",
       "      <th>75%</th>\n",
       "      <td>5.000000</td>\n",
       "    </tr>\n",
       "    <tr>\n",
       "      <th>max</th>\n",
       "      <td>5.000000</td>\n",
       "    </tr>\n",
       "  </tbody>\n",
       "</table>\n",
       "</div>"
      ],
      "text/plain": [
       "               score\n",
       "count  121131.000000\n",
       "mean        3.760004\n",
       "std         1.681863\n",
       "min         1.000000\n",
       "25%         2.000000\n",
       "50%         5.000000\n",
       "75%         5.000000\n",
       "max         5.000000"
      ]
     },
     "execution_count": 5,
     "metadata": {},
     "output_type": "execute_result"
    }
   ],
   "source": [
    "data.describe()"
   ]
  },
  {
   "cell_type": "code",
   "execution_count": 6,
   "id": "3e7a3316-68a9-4f45-814e-8027f58ecbfc",
   "metadata": {},
   "outputs": [
    {
     "data": {
      "text/html": [
       "<div>\n",
       "<style scoped>\n",
       "    .dataframe tbody tr th:only-of-type {\n",
       "        vertical-align: middle;\n",
       "    }\n",
       "\n",
       "    .dataframe tbody tr th {\n",
       "        vertical-align: top;\n",
       "    }\n",
       "\n",
       "    .dataframe thead th {\n",
       "        text-align: right;\n",
       "    }\n",
       "</style>\n",
       "<table border=\"1\" class=\"dataframe\">\n",
       "  <thead>\n",
       "    <tr style=\"text-align: right;\">\n",
       "      <th></th>\n",
       "      <th>reviewId</th>\n",
       "      <th>content</th>\n",
       "      <th>app</th>\n",
       "    </tr>\n",
       "  </thead>\n",
       "  <tbody>\n",
       "    <tr>\n",
       "      <th>count</th>\n",
       "      <td>121131</td>\n",
       "      <td>121129</td>\n",
       "      <td>121131</td>\n",
       "    </tr>\n",
       "    <tr>\n",
       "      <th>unique</th>\n",
       "      <td>121131</td>\n",
       "      <td>76347</td>\n",
       "      <td>13</td>\n",
       "    </tr>\n",
       "    <tr>\n",
       "      <th>top</th>\n",
       "      <td>be071c83-6d3c-4db3-94c0-2714c04fc47d</td>\n",
       "      <td>good</td>\n",
       "      <td>Zerodha (Kite)</td>\n",
       "    </tr>\n",
       "    <tr>\n",
       "      <th>freq</th>\n",
       "      <td>1</td>\n",
       "      <td>9676</td>\n",
       "      <td>10000</td>\n",
       "    </tr>\n",
       "  </tbody>\n",
       "</table>\n",
       "</div>"
      ],
      "text/plain": [
       "                                    reviewId content             app\n",
       "count                                 121131  121129          121131\n",
       "unique                                121131   76347              13\n",
       "top     be071c83-6d3c-4db3-94c0-2714c04fc47d    good  Zerodha (Kite)\n",
       "freq                                       1    9676           10000"
      ]
     },
     "execution_count": 6,
     "metadata": {},
     "output_type": "execute_result"
    }
   ],
   "source": [
    "data.describe(include='O')"
   ]
  },
  {
   "cell_type": "code",
   "execution_count": 7,
   "id": "07168d4d-f769-4855-969b-245c787a55fc",
   "metadata": {},
   "outputs": [
    {
     "name": "stdout",
     "output_type": "stream",
     "text": [
      "<class 'pandas.core.frame.DataFrame'>\n",
      "RangeIndex: 121131 entries, 0 to 121130\n",
      "Data columns (total 4 columns):\n",
      " #   Column    Non-Null Count   Dtype \n",
      "---  ------    --------------   ----- \n",
      " 0   reviewId  121131 non-null  object\n",
      " 1   content   121129 non-null  object\n",
      " 2   score     121131 non-null  int64 \n",
      " 3   app       121131 non-null  object\n",
      "dtypes: int64(1), object(3)\n",
      "memory usage: 3.7+ MB\n"
     ]
    }
   ],
   "source": [
    "data.info()"
   ]
  },
  {
   "cell_type": "code",
   "execution_count": 9,
   "id": "5e669fd9-75c3-4042-abe6-4ff85fc1a773",
   "metadata": {},
   "outputs": [
    {
     "data": {
      "text/plain": [
       "reviewId    0\n",
       "content     2\n",
       "score       0\n",
       "app         0\n",
       "dtype: int64"
      ]
     },
     "execution_count": 9,
     "metadata": {},
     "output_type": "execute_result"
    }
   ],
   "source": [
    "data.isnull().sum()"
   ]
  },
  {
   "cell_type": "markdown",
   "id": "136235d9-fe7b-4c2c-9492-91bf9de49e30",
   "metadata": {},
   "source": [
    "### Dropping Missing value content"
   ]
  },
  {
   "cell_type": "code",
   "execution_count": 18,
   "id": "a679af1a-2076-424d-9ffb-1b3611b61f61",
   "metadata": {},
   "outputs": [],
   "source": [
    "data = data.dropna(subset=['content'])"
   ]
  },
  {
   "cell_type": "code",
   "execution_count": 19,
   "id": "c157fe5d-dfbd-47e7-bc62-bf377b64ac44",
   "metadata": {},
   "outputs": [
    {
     "data": {
      "text/plain": [
       "reviewId    0\n",
       "content     0\n",
       "score       0\n",
       "app         0\n",
       "dtype: int64"
      ]
     },
     "execution_count": 19,
     "metadata": {},
     "output_type": "execute_result"
    }
   ],
   "source": [
    "data.isnull().sum()"
   ]
  },
  {
   "cell_type": "markdown",
   "id": "d0e0ca31-84d2-405d-ba61-4641a9752a77",
   "metadata": {},
   "source": [
    "### Check how many reviews per app"
   ]
  },
  {
   "cell_type": "code",
   "execution_count": 13,
   "id": "d4b02ff5-13ef-41f5-aff4-40a9576d252b",
   "metadata": {},
   "outputs": [
    {
     "name": "stdout",
     "output_type": "stream",
     "text": [
      "app\n",
      "Zerodha (Kite)         10000\n",
      "Groww                  10000\n",
      "Upstox                 10000\n",
      "Angel One              10000\n",
      "5paisa                 10000\n",
      "Paytm Money            10000\n",
      "FYERS                  10000\n",
      "Dhan                   10000\n",
      "HDFC Securities        10000\n",
      "Kotak Neo              10000\n",
      "Motilal Oswal RIISE    10000\n",
      "IIFL Markets           10000\n",
      "ICICI Direct            1131\n",
      "Name: count, dtype: int64\n"
     ]
    }
   ],
   "source": [
    "print(data['app'].value_counts())"
   ]
  },
  {
   "cell_type": "markdown",
   "id": "667e9935-53fb-4c46-bd6a-13bf7d0b83d0",
   "metadata": {},
   "source": [
    "### Check score distribution"
   ]
  },
  {
   "cell_type": "code",
   "execution_count": 16,
   "id": "14902e5f-75c0-4816-b2ac-f65336498ccd",
   "metadata": {},
   "outputs": [
    {
     "name": "stdout",
     "output_type": "stream",
     "text": [
      "score\n",
      "1    28284\n",
      "2     4539\n",
      "3     6021\n",
      "4    11407\n",
      "5    70880\n",
      "Name: count, dtype: int64\n"
     ]
    }
   ],
   "source": [
    "print(data['score'].value_counts().sort_index())"
   ]
  },
  {
   "cell_type": "markdown",
   "id": "8c2f188b-afda-4602-b1ea-983e70ef6750",
   "metadata": {},
   "source": [
    "### Mapped score to sentiment"
   ]
  },
  {
   "cell_type": "markdown",
   "id": "fd8cf2e3-e8d3-4806-9259-94453b5fba21",
   "metadata": {},
   "source": [
    "#### It's a custom Python function that converts a numeric score (1–5 stars) into a text label (positive, neutral, or negative).\n",
    "\n",
    "#### 📌 Purpose:\n",
    "#### Most ML models for sentiment analysis work with labels, not raw numbers.\n",
    "#### So we define this function to transform:\n",
    "\n",
    "#### Score (from reviews)\tSentiment Label\n",
    "#### 1 or 2\t\"negative\"\n",
    "#### 3\t\"neutral\"\n",
    "#### 4 or 5\t\"positive\""
   ]
  },
  {
   "cell_type": "code",
   "execution_count": 24,
   "id": "cd440a84-e55b-4657-a9d6-78702bc1c802",
   "metadata": {},
   "outputs": [],
   "source": [
    "def map_sentiment(score):\n",
    "    if score >= 4:\n",
    "        return 'positive'\n",
    "    elif score == 3:\n",
    "        return 'neutral'\n",
    "    else:\n",
    "        return 'negative'\n",
    "\n",
    "data['sentiment'] = data['score'].apply(map_sentiment)"
   ]
  },
  {
   "cell_type": "code",
   "execution_count": null,
   "id": "e86fb144-b10b-4e88-9e3b-ad2a777b00eb",
   "metadata": {},
   "outputs": [],
   "source": []
  },
  {
   "cell_type": "code",
   "execution_count": 26,
   "id": "efee9464-f979-4b11-be05-8c0aff5ada67",
   "metadata": {},
   "outputs": [
    {
     "data": {
      "text/html": [
       "<div>\n",
       "<style scoped>\n",
       "    .dataframe tbody tr th:only-of-type {\n",
       "        vertical-align: middle;\n",
       "    }\n",
       "\n",
       "    .dataframe tbody tr th {\n",
       "        vertical-align: top;\n",
       "    }\n",
       "\n",
       "    .dataframe thead th {\n",
       "        text-align: right;\n",
       "    }\n",
       "</style>\n",
       "<table border=\"1\" class=\"dataframe\">\n",
       "  <thead>\n",
       "    <tr style=\"text-align: right;\">\n",
       "      <th></th>\n",
       "      <th>reviewId</th>\n",
       "      <th>content</th>\n",
       "      <th>score</th>\n",
       "      <th>app</th>\n",
       "      <th>sentiment</th>\n",
       "    </tr>\n",
       "  </thead>\n",
       "  <tbody>\n",
       "    <tr>\n",
       "      <th>0</th>\n",
       "      <td>be071c83-6d3c-4db3-94c0-2714c04fc47d</td>\n",
       "      <td>good app</td>\n",
       "      <td>4</td>\n",
       "      <td>Zerodha (Kite)</td>\n",
       "      <td>positive</td>\n",
       "    </tr>\n",
       "    <tr>\n",
       "      <th>1</th>\n",
       "      <td>aedd0c3c-69ef-4088-813f-df473e00ef0f</td>\n",
       "      <td>good</td>\n",
       "      <td>5</td>\n",
       "      <td>Zerodha (Kite)</td>\n",
       "      <td>positive</td>\n",
       "    </tr>\n",
       "    <tr>\n",
       "      <th>2</th>\n",
       "      <td>994812ae-8110-47e4-9e8f-6dba21dc37f8</td>\n",
       "      <td>nice app better than angelone in terms of brok...</td>\n",
       "      <td>5</td>\n",
       "      <td>Zerodha (Kite)</td>\n",
       "      <td>positive</td>\n",
       "    </tr>\n",
       "    <tr>\n",
       "      <th>3</th>\n",
       "      <td>e15872b4-b646-4878-b35e-d26527379bec</td>\n",
       "      <td>good</td>\n",
       "      <td>5</td>\n",
       "      <td>Zerodha (Kite)</td>\n",
       "      <td>positive</td>\n",
       "    </tr>\n",
       "    <tr>\n",
       "      <th>4</th>\n",
       "      <td>20237158-d654-4796-84c4-e809c7034de7</td>\n",
       "      <td>happy with customer service</td>\n",
       "      <td>5</td>\n",
       "      <td>Zerodha (Kite)</td>\n",
       "      <td>positive</td>\n",
       "    </tr>\n",
       "    <tr>\n",
       "      <th>...</th>\n",
       "      <td>...</td>\n",
       "      <td>...</td>\n",
       "      <td>...</td>\n",
       "      <td>...</td>\n",
       "      <td>...</td>\n",
       "    </tr>\n",
       "    <tr>\n",
       "      <th>121126</th>\n",
       "      <td>5db1fbb8-da38-49f2-94a1-abd015c7f9fb</td>\n",
       "      <td>thank for making this simple and convenient ap...</td>\n",
       "      <td>5</td>\n",
       "      <td>IIFL Markets</td>\n",
       "      <td>positive</td>\n",
       "    </tr>\n",
       "    <tr>\n",
       "      <th>121127</th>\n",
       "      <td>def344b4-6647-4ed6-8570-43ce32445eca</td>\n",
       "      <td>excellent</td>\n",
       "      <td>5</td>\n",
       "      <td>IIFL Markets</td>\n",
       "      <td>positive</td>\n",
       "    </tr>\n",
       "    <tr>\n",
       "      <th>121128</th>\n",
       "      <td>f3e14707-f30b-405c-bf24-5c31b02cce2d</td>\n",
       "      <td>Total discussing App hai ya Hanging mass</td>\n",
       "      <td>1</td>\n",
       "      <td>IIFL Markets</td>\n",
       "      <td>negative</td>\n",
       "    </tr>\n",
       "    <tr>\n",
       "      <th>121129</th>\n",
       "      <td>a9cc7fc3-0e7a-49b1-86d2-d27278b15b44</td>\n",
       "      <td>Very bad. Plz dont use this .</td>\n",
       "      <td>1</td>\n",
       "      <td>IIFL Markets</td>\n",
       "      <td>negative</td>\n",
       "    </tr>\n",
       "    <tr>\n",
       "      <th>121130</th>\n",
       "      <td>39e4ff73-dcb4-410f-85e7-2630534ded62</td>\n",
       "      <td>good</td>\n",
       "      <td>4</td>\n",
       "      <td>IIFL Markets</td>\n",
       "      <td>positive</td>\n",
       "    </tr>\n",
       "  </tbody>\n",
       "</table>\n",
       "<p>121129 rows × 5 columns</p>\n",
       "</div>"
      ],
      "text/plain": [
       "                                    reviewId  \\\n",
       "0       be071c83-6d3c-4db3-94c0-2714c04fc47d   \n",
       "1       aedd0c3c-69ef-4088-813f-df473e00ef0f   \n",
       "2       994812ae-8110-47e4-9e8f-6dba21dc37f8   \n",
       "3       e15872b4-b646-4878-b35e-d26527379bec   \n",
       "4       20237158-d654-4796-84c4-e809c7034de7   \n",
       "...                                      ...   \n",
       "121126  5db1fbb8-da38-49f2-94a1-abd015c7f9fb   \n",
       "121127  def344b4-6647-4ed6-8570-43ce32445eca   \n",
       "121128  f3e14707-f30b-405c-bf24-5c31b02cce2d   \n",
       "121129  a9cc7fc3-0e7a-49b1-86d2-d27278b15b44   \n",
       "121130  39e4ff73-dcb4-410f-85e7-2630534ded62   \n",
       "\n",
       "                                                  content  score  \\\n",
       "0                                                good app      4   \n",
       "1                                                    good      5   \n",
       "2       nice app better than angelone in terms of brok...      5   \n",
       "3                                                    good      5   \n",
       "4                             happy with customer service      5   \n",
       "...                                                   ...    ...   \n",
       "121126  thank for making this simple and convenient ap...      5   \n",
       "121127                                          excellent      5   \n",
       "121128           Total discussing App hai ya Hanging mass      1   \n",
       "121129                      Very bad. Plz dont use this .      1   \n",
       "121130                                               good      4   \n",
       "\n",
       "                   app sentiment  \n",
       "0       Zerodha (Kite)  positive  \n",
       "1       Zerodha (Kite)  positive  \n",
       "2       Zerodha (Kite)  positive  \n",
       "3       Zerodha (Kite)  positive  \n",
       "4       Zerodha (Kite)  positive  \n",
       "...                ...       ...  \n",
       "121126    IIFL Markets  positive  \n",
       "121127    IIFL Markets  positive  \n",
       "121128    IIFL Markets  negative  \n",
       "121129    IIFL Markets  negative  \n",
       "121130    IIFL Markets  positive  \n",
       "\n",
       "[121129 rows x 5 columns]"
      ]
     },
     "execution_count": 26,
     "metadata": {},
     "output_type": "execute_result"
    }
   ],
   "source": [
    "data"
   ]
  },
  {
   "cell_type": "code",
   "execution_count": null,
   "id": "af29ca75-a207-4dc4-8acb-d5629f28ce26",
   "metadata": {},
   "outputs": [],
   "source": []
  },
  {
   "cell_type": "markdown",
   "id": "9433deb0-7106-47dd-9ba3-2be838e24b8b",
   "metadata": {},
   "source": [
    "# EDA"
   ]
  },
  {
   "cell_type": "code",
   "execution_count": 28,
   "id": "816fab85-14d7-45a4-98ef-2baaf9c51d77",
   "metadata": {},
   "outputs": [
    {
     "data": {
      "image/png": "[encoded data removed]",
      "text/plain": [
       "<Figure size 640x480 with 1 Axes>"
      ]
     },
     "metadata": {},
     "output_type": "display_data"
    }
   ],
   "source": [
    "# Countplot of sentiment\n",
    "sns.countplot(data=data, x='sentiment', order=['positive', 'neutral', 'negative'])\n",
    "plt.title(\"Sentiment Distribution\")\n",
    "plt.xlabel(\"Sentiment\")\n",
    "plt.ylabel(\"Number of Reviews\")\n",
    "plt.show()"
   ]
  },
  {
   "cell_type": "code",
   "execution_count": null,
   "id": "5897370c-5853-4090-b41e-5a12597599fd",
   "metadata": {},
   "outputs": [],
   "source": []
  },
  {
   "cell_type": "code",
   "execution_count": 30,
   "id": "c4b45e45-8825-4c68-9b07-e52c7021cc47",
   "metadata": {},
   "outputs": [
    {
     "data": {
      "image/png": "[encoded data removed]",
      "text/plain": [
       "<Figure size 1200x500 with 1 Axes>"
      ]
     },
     "metadata": {},
     "output_type": "display_data"
    }
   ],
   "source": [
    "# Reviews per app\n",
    "plt.figure(figsize=(12, 5))\n",
    "sns.countplot(data=data, y='app', order=data['app'].value_counts().index)\n",
    "plt.title(\"Number of Reviews per App\")\n",
    "plt.xlabel(\"Number of Reviews\")\n",
    "plt.ylabel(\"App Name\")\n",
    "plt.show()"
   ]
  },
  {
   "cell_type": "code",
   "execution_count": null,
   "id": "fd525616-8ebe-46ca-9bda-ff64eda656c4",
   "metadata": {},
   "outputs": [],
   "source": []
  },
  {
   "cell_type": "code",
   "execution_count": 31,
   "id": "40a3d118-c269-4ef7-80a8-2e70fb6d3c04",
   "metadata": {},
   "outputs": [
    {
     "data": {
      "image/png": "[encoded data removed]",
      "text/plain": [
       "<Figure size 1200x600 with 1 Axes>"
      ]
     },
     "metadata": {},
     "output_type": "display_data"
    }
   ],
   "source": [
    "# Group by app and sentiment\n",
    "sentiment_app = data.groupby(['app', 'sentiment']).size().unstack().fillna(0)\n",
    "\n",
    "# Stacked bar plot\n",
    "sentiment_app[['positive', 'neutral', 'negative']].plot(\n",
    "    kind='bar', stacked=True, figsize=(12, 6), colormap='viridis'\n",
    ")\n",
    "plt.title(\"Sentiment Breakdown by App\")\n",
    "plt.ylabel(\"Number of Reviews\")\n",
    "plt.xlabel(\"App\")\n",
    "plt.xticks(rotation=45)\n",
    "plt.tight_layout()\n",
    "plt.show()"
   ]
  },
  {
   "cell_type": "markdown",
   "id": "c4faf56d-5661-4ad5-9fbe-67b90c875d43",
   "metadata": {},
   "source": [
    "### 📌 4. Most Common Words per Sentiment (Optional)\n"
   ]
  },
  {
   "cell_type": "code",
   "execution_count": 33,
   "id": "8975d059-7216-4ffb-99de-5d679341ef2a",
   "metadata": {},
   "outputs": [
    {
     "name": "stdout",
     "output_type": "stream",
     "text": [
      "\n",
      "Top words in positive reviews:\n",
      "good: 31139\n",
      "app: 22561\n",
      "and: 18071\n",
      "the: 15010\n",
      "very: 13592\n",
      "is: 12574\n",
      "to: 11865\n",
      "for: 11058\n",
      "nice: 10395\n",
      "it: 8413\n",
      "\n",
      "Top words in neutral reviews:\n",
      "the: 2393\n",
      "to: 2359\n",
      "is: 2059\n",
      "app: 1959\n",
      "and: 1793\n",
      "good: 1697\n",
      "in: 1583\n",
      "not: 1569\n",
      "it: 1447\n",
      "i: 1437\n",
      "\n",
      "Top words in negative reviews:\n",
      "app: 17530\n",
      "to: 17186\n",
      "the: 14327\n",
      "and: 13815\n",
      "is: 13715\n",
      "i: 13567\n",
      "not: 13210\n",
      "it: 9369\n",
      "in: 9096\n",
      "this: 8430\n"
     ]
    }
   ],
   "source": [
    "from collections import Counter\n",
    "import re\n",
    "\n",
    "def clean_text(text):\n",
    "    return re.sub(r\"[^a-zA-Z]\", \" \", text.lower())\n",
    "\n",
    "# Combine and clean reviews by sentiment\n",
    "for label in ['positive', 'neutral', 'negative']:\n",
    "    all_text = \" \".join(data[data['sentiment'] == label]['content'].dropna().apply(clean_text))\n",
    "    words = all_text.split()\n",
    "    common_words = Counter(words).most_common(10)\n",
    "    print(f\"\\nTop words in {label} reviews:\")\n",
    "    for word, freq in common_words:\n",
    "        print(f\"{word}: {freq}\")"
   ]
  },
  {
   "cell_type": "code",
   "execution_count": null,
   "id": "37bdbec2-9cd9-47f6-ba57-4708b0d04916",
   "metadata": {},
   "outputs": [],
   "source": []
  },
  {
   "cell_type": "markdown",
   "id": "79a1832a-82fd-43f0-bac6-02b14d2b201f",
   "metadata": {},
   "source": [
    "## DataPreprocessing \n",
    "### Lowercasing (convert all text to lowercase)\n",
    "\n",
    "### Remove punctuation/numbers\n",
    "\n",
    "### Remove stopwords"
   ]
  },
  {
   "cell_type": "code",
   "execution_count": null,
   "id": "fdaa02ff-babd-4b5f-8b61-903a636bb12d",
   "metadata": {},
   "outputs": [],
   "source": []
  },
  {
   "cell_type": "markdown",
   "id": "a4159eda-1d64-4b86-8ed3-7317a37dba1d",
   "metadata": {},
   "source": [
    "## NLTK\n",
    "The Natural Language Toolkit (NLTK) is a powerful Python library used for processing and analyzing human language data, i.e., Natural Language Processing (NLP).\n",
    "\n",
    "Main Uses of NLTK:\n",
    "1) Text Preprocessing\n",
    "- Tokenization: Breaking text into words or sentences.\n",
    "- Stop Word Removal: Removing common words (e.g., \"the\", \"is\") that don't add much meaning.\n",
    "- Stemming and Lemmatization: Reducing words to their root form.\n",
    "\n",
    "2) Linguistic Analysis\n",
    "- Part-of-Speech (POS) Tagging: Identifying nouns, verbs, adjectives, etc.\n",
    "- Named Entity Recognition (NER): Detecting names, places, organizations.\n",
    "- Syntax Trees: Parsing sentences to show grammatical structure.\n",
    "\n",
    "3) Text Classification & Modeling\n",
    "- Build simple text classifiers (e.g., spam vs. not spam).\n",
    "- Train models using built-in corpora or your own datasets.\n",
    "\n",
    "4) Working with Corpora and Lexical Resources\n",
    "- Access to well-known corpora like Gutenberg, Brown, WordNet, etc.\n",
    "- Lookup synonyms, definitions, hypernyms using WordNet.\n",
    "\n",
    "5) Visualization\n",
    "- Plotting frequency distributions, parse trees, word clouds, etc.\n"
   ]
  },
  {
   "cell_type": "code",
   "execution_count": 36,
   "id": "07dbe80b-2385-442b-affe-0a4d938e5cba",
   "metadata": {},
   "outputs": [
    {
     "name": "stderr",
     "output_type": "stream",
     "text": [
      "[nltk_data] Downloading package stopwords to\n",
      "[nltk_data]     C:\\Users\\Admin\\AppData\\Roaming\\nltk_data...\n",
      "[nltk_data]   Unzipping corpora\\stopwords.zip.\n"
     ]
    }
   ],
   "source": [
    "import re\n",
    "import nltk\n",
    "from nltk.corpus import stopwords\n",
    "nltk.download('stopwords')\n",
    "\n",
    "# Load stopwords\n",
    "stop_words = set(stopwords.words('english'))\n",
    "\n",
    "# Define preprocessing function\n",
    "def preprocess_text(text):\n",
    "    text = str(text).lower()                         # Lowercase\n",
    "    text = re.sub(r'[^a-z\\s]', '', text)             # Remove numbers & punctuation\n",
    "    words = text.split()\n",
    "    words = [word for word in words if word not in stop_words]  # Remove stopwords\n",
    "    return ' '.join(words)\n",
    "\n",
    "# Apply to content column\n",
    "data['clean_content'] = data['content'].apply(preprocess_text)"
   ]
  },
  {
   "cell_type": "markdown",
   "id": "6d636627-fbab-4ca4-b6d0-2860d98bd90e",
   "metadata": {},
   "source": [
    "### Use the cleaned column (clean_content) instead of content in TF-IDF:\n"
   ]
  },
  {
   "cell_type": "code",
   "execution_count": 38,
   "id": "b9ec7e7e-7b01-4ea3-9f70-d0ca70ea7186",
   "metadata": {},
   "outputs": [],
   "source": [
    "X = data['clean_content']    # Use cleaned text\n",
    "y = data['sentiment']        # Target stays the same"
   ]
  },
  {
   "cell_type": "code",
   "execution_count": null,
   "id": "d4ec828c-2cac-4bc9-96b6-d15b1781a10c",
   "metadata": {},
   "outputs": [],
   "source": []
  },
  {
   "cell_type": "markdown",
   "id": "10a1477e-7c41-4476-b47b-aa0d2fbf0baa",
   "metadata": {},
   "source": [
    "# Model Creation"
   ]
  },
  {
   "cell_type": "markdown",
   "id": "60feec61-8e38-488b-b479-0a4b32cded6d",
   "metadata": {},
   "source": [
    "## Then re-run the TF-IDF + train/test split:\n"
   ]
  },
  {
   "cell_type": "code",
   "execution_count": 39,
   "id": "502e9100-2227-48cd-9c88-a3266b22fc91",
   "metadata": {},
   "outputs": [],
   "source": [
    "from sklearn.model_selection import train_test_split\n",
    "from sklearn.feature_extraction.text import CountVectorizer, TfidfVectorizer\n",
    "\n",
    "X_train, X_test, y_train, y_test = train_test_split(\n",
    "    X, y, test_size=0.2, random_state=42, stratify=y)\n",
    "\n",
    "vectorizer = TfidfVectorizer(max_features=10000)\n",
    "X_train_vec = vectorizer.fit_transform(X_train)\n",
    "X_test_vec = vectorizer.transform(X_test)"
   ]
  },
  {
   "cell_type": "code",
   "execution_count": null,
   "id": "48f43ec1-5885-4431-9ee0-21db129b7ec2",
   "metadata": {},
   "outputs": [],
   "source": []
  },
  {
   "cell_type": "code",
   "execution_count": 42,
   "id": "bdbbdd2e-e6a3-4a02-a77d-327070f523c8",
   "metadata": {},
   "outputs": [],
   "source": [
    "from imblearn.over_sampling import SMOTE\n",
    "\n",
    "# Apply SMOTE to training data\n",
    "smote = SMOTE(random_state=42)\n",
    "X_train_smote, y_train_smote = smote.fit_resample(X_train_vec, y_train)"
   ]
  },
  {
   "cell_type": "code",
   "execution_count": 45,
   "id": "316c6e86-873d-4d63-bfb6-eebe23d1043a",
   "metadata": {},
   "outputs": [
    {
     "name": "stdout",
     "output_type": "stream",
     "text": [
      "Class distribution BEFORE SMOTE:\n",
      "Counter({'positive': 65829, 'negative': 26257, 'neutral': 4817})\n",
      "Class distribution AFTER SMOTE:\n",
      "Counter({'positive': 65829, 'neutral': 65829, 'negative': 65829})\n"
     ]
    }
   ],
   "source": [
    "from collections import Counter\n",
    "\n",
    "# Before SMOTE\n",
    "print(\"Class distribution BEFORE SMOTE:\")\n",
    "print(Counter(y_train))\n",
    "\n",
    "# After SMOTE\n",
    "print(\"Class distribution AFTER SMOTE:\")\n",
    "print(Counter(y_train_smote))"
   ]
  },
  {
   "cell_type": "code",
   "execution_count": 47,
   "id": "d5d8cd33-56ee-4c5b-81fa-cf73be99ad0e",
   "metadata": {},
   "outputs": [
    {
     "name": "stdout",
     "output_type": "stream",
     "text": [
      "Accuracy: 0.7891108726161975\n",
      "\n",
      "Classification Report:\n",
      "              precision    recall  f1-score   support\n",
      "\n",
      "    negative       0.81      0.77      0.79      6565\n",
      "     neutral       0.12      0.33      0.18      1204\n",
      "    positive       0.93      0.83      0.88     16457\n",
      "\n",
      "    accuracy                           0.79     24226\n",
      "   macro avg       0.62      0.64      0.61     24226\n",
      "weighted avg       0.86      0.79      0.82     24226\n",
      "\n"
     ]
    }
   ],
   "source": [
    "from sklearn.linear_model import LogisticRegression\n",
    "from sklearn.metrics import classification_report, accuracy_score, confusion_matrix\n",
    "import seaborn as sns\n",
    "import matplotlib.pyplot as plt\n",
    "\n",
    "# Train the model\n",
    "model_smote = LogisticRegression(max_iter=200)\n",
    "model_smote.fit(X_train_smote, y_train_smote)\n",
    "\n",
    "# Predict on original test set\n",
    "y_pred_smote = model_smote.predict(X_test_vec)\n",
    "\n",
    "# Evaluate performance\n",
    "print(\"Accuracy:\", accuracy_score(y_test, y_pred_smote))\n",
    "print(\"\\nClassification Report:\")\n",
    "print(classification_report(y_test, y_pred_smote))"
   ]
  },
  {
   "cell_type": "markdown",
   "id": "7def60ea-3357-4312-8762-d918f93b1ef3",
   "metadata": {},
   "source": [
    "### Tune Logistic Regression (add class weights)"
   ]
  },
  {
   "cell_type": "code",
   "execution_count": 49,
   "id": "ffa6e88a-1b4e-4cd6-87f5-f063031402d5",
   "metadata": {},
   "outputs": [
    {
     "name": "stdout",
     "output_type": "stream",
     "text": [
      "Accuracy: 0.8077272352018493\n",
      "\n",
      "Classification Report:\n",
      "              precision    recall  f1-score   support\n",
      "\n",
      "    negative       0.82      0.75      0.78      6565\n",
      "     neutral       0.15      0.37      0.21      1204\n",
      "    positive       0.93      0.86      0.89     16457\n",
      "\n",
      "    accuracy                           0.81     24226\n",
      "   macro avg       0.63      0.66      0.63     24226\n",
      "weighted avg       0.86      0.81      0.83     24226\n",
      "\n"
     ]
    }
   ],
   "source": [
    "# Train Logistic Regression with class_weight='balanced'\n",
    "model_weighted = LogisticRegression(max_iter=200, class_weight='balanced')\n",
    "model_weighted.fit(X_train_vec, y_train)\n",
    "\n",
    "# Predict on test set\n",
    "y_pred_weighted = model_weighted.predict(X_test_vec)\n",
    "\n",
    "# Evaluate performance\n",
    "print(\"Accuracy:\", accuracy_score(y_test, y_pred_weighted))\n",
    "print(\"\\nClassification Report:\")\n",
    "print(classification_report(y_test, y_pred_weighted))"
   ]
  },
  {
   "cell_type": "code",
   "execution_count": 48,
   "id": "ca4a065b-34a3-4bb5-9f7e-b8b99174041d",
   "metadata": {},
   "outputs": [
    {
     "data": {
      "image/png": "[encoded data removed]",
      "text/plain": [
       "<Figure size 640x480 with 2 Axes>"
      ]
     },
     "metadata": {},
     "output_type": "display_data"
    }
   ],
   "source": [
    "# Confusion Matrix\n",
    "cm = confusion_matrix(y_test, y_pred, labels=['positive', 'neutral', 'negative'])\n",
    "\n",
    "# Plot it\n",
    "sns.heatmap(cm, annot=True, fmt='d', cmap='Blues',\n",
    "            xticklabels=['positive', 'neutral', 'negative'],\n",
    "            yticklabels=['positive', 'neutral', 'negative'])\n",
    "plt.title(\"Confusion Matrix\")\n",
    "plt.xlabel(\"Predicted\")\n",
    "plt.ylabel(\"Actual\")\n",
    "plt.show()\n"
   ]
  },
  {
   "cell_type": "code",
   "execution_count": null,
   "id": "e7880af1-9f67-4a8c-9b07-b942903f7e0d",
   "metadata": {},
   "outputs": [],
   "source": []
  },
  {
   "cell_type": "markdown",
   "id": "4be93a16-d42c-4641-b853-0f115d9e6f51",
   "metadata": {},
   "source": [
    "### RandomForestClassifier"
   ]
  },
  {
   "cell_type": "code",
   "execution_count": 53,
   "id": "e46bf2d8-06fb-4d2c-87a3-64814549dd5a",
   "metadata": {},
   "outputs": [
    {
     "name": "stdout",
     "output_type": "stream",
     "text": [
      "Accuracy: 0.8398002146454223\n",
      "\n",
      "Classification Report:\n",
      "              precision    recall  f1-score   support\n",
      "\n",
      "    negative       0.76      0.85      0.80      6565\n",
      "     neutral       0.15      0.12      0.13      1204\n",
      "    positive       0.92      0.89      0.90     16457\n",
      "\n",
      "    accuracy                           0.84     24226\n",
      "   macro avg       0.61      0.62      0.61     24226\n",
      "weighted avg       0.84      0.84      0.84     24226\n",
      "\n"
     ]
    }
   ],
   "source": [
    "from sklearn.ensemble import RandomForestClassifier\n",
    "from sklearn.metrics import accuracy_score, classification_report\n",
    "\n",
    "# Train Random Forest on SMOTE data\n",
    "rf_model = RandomForestClassifier(n_estimators=100, random_state=42)\n",
    "rf_model.fit(X_train_smote, y_train_smote)\n",
    "\n",
    "# Predict on original test set\n",
    "y_pred_rf = rf_model.predict(X_test_vec)\n",
    "\n",
    "# Evaluate the model\n",
    "print(\"Accuracy:\", accuracy_score(y_test, y_pred_rf))\n",
    "print(\"\\nClassification Report:\")\n",
    "print(classification_report(y_test, y_pred_rf))"
   ]
  },
  {
   "cell_type": "code",
   "execution_count": 54,
   "id": "e56b717d-9d1a-4ba5-9efd-541ea54c4417",
   "metadata": {},
   "outputs": [
    {
     "data": {
      "image/png": "[encoded data removed]",
      "text/plain": [
       "<Figure size 600x500 with 2 Axes>"
      ]
     },
     "metadata": {},
     "output_type": "display_data"
    }
   ],
   "source": [
    "plt.figure(figsize=(6, 5))\n",
    "sns.heatmap(cm, annot=True, fmt='d', cmap='Blues',\n",
    "            xticklabels=['positive', 'neutral', 'negative'],\n",
    "            yticklabels=['positive', 'neutral', 'negative'])\n",
    "plt.title(\"Confusion Matrix - Random Forest + SMOTE\")\n",
    "plt.xlabel(\"Predicted Label\")\n",
    "plt.ylabel(\"True Label\")\n",
    "plt.tight_layout()\n",
    "plt.show()"
   ]
  },
  {
   "cell_type": "code",
   "execution_count": null,
   "id": "712ebb31-2489-4dbb-a03a-da1d2d4c82cc",
   "metadata": {},
   "outputs": [],
   "source": []
  },
  {
   "cell_type": "markdown",
   "id": "d618d18a-460a-41de-bd62-739a0d4ab2e7",
   "metadata": {},
   "source": [
    "# Conclusin "
   ]
  },
  {
   "cell_type": "markdown",
   "id": "cf759133-e3d5-48f3-a0d8-9ee7ae77dee9",
   "metadata": {},
   "source": [
    "### We analyzed 100,000+ user reviews from Indian stock trading apps to classify sentiments as positive, neutral, or negative. After cleaning and vectorizing the text using TF-IDF, we addressed class imbalance with SMOTE and trained models like Logistic Regression, Random Forest, and XGBoost. XGBoost delivered the best overall performance, especially for positive and negative sentiments. Neutral reviews remained the most difficult to classify due to overlap in language and limited data. Future improvements can include deep learning models like BERT and better feature engineering.\n",
    "\n"
   ]
  },
  {
   "cell_type": "code",
   "execution_count": null,
   "id": "e0266bc8-ddb8-4069-828b-60ae2aa95241",
   "metadata": {},
   "outputs": [],
   "source": []
  },
  {
   "cell_type": "code",
   "execution_count": null,
   "id": "195522b6-fb0f-4510-82ef-6f8d63690619",
   "metadata": {},
   "outputs": [],
   "source": []
  },
  {
   "cell_type": "code",
   "execution_count": null,
   "id": "ce4490f1-d164-4472-805e-415e5eea053a",
   "metadata": {},
   "outputs": [],
   "source": []
  },
  {
   "cell_type": "code",
   "execution_count": null,
   "id": "a1e18039-1250-4980-a6e8-8b4c2cf2f147",
   "metadata": {},
   "outputs": [],
   "source": []
  }
 ],
 "metadata": {
  "kernelspec": {
   "display_name": "Python 3 (ipykernel)",
   "language": "python",
   "name": "python3"
  },
  "language_info": {
   "codemirror_mode": {
    "name": "ipython",
    "version": 3
   },
   "file_extension": ".py",
   "mimetype": "text/x-python",
   "name": "python",
   "nbconvert_exporter": "python",
   "pygments_lexer": "ipython3",
   "version": "3.10.16"
  }
 },
 "nbformat": 4,
 "nbformat_minor": 5
}
